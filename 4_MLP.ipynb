{
 "cells": [
  {
   "cell_type": "code",
   "execution_count": 1,
   "metadata": {},
   "outputs": [],
   "source": [
    "import torch\n",
    "import pandas as pd\n",
    "import numpy as np\n",
    "import matplotlib.pyplot as plt\n",
    "%matplotlib inline"
   ]
  },
  {
   "cell_type": "code",
   "execution_count": 2,
   "metadata": {},
   "outputs": [],
   "source": [
    "data = pd.read_csv('dataset/HR.csv')"
   ]
  },
  {
   "cell_type": "code",
   "execution_count": 3,
   "metadata": {},
   "outputs": [
    {
     "data": {
      "text/html": [
       "<div>\n",
       "<style scoped>\n",
       "    .dataframe tbody tr th:only-of-type {\n",
       "        vertical-align: middle;\n",
       "    }\n",
       "\n",
       "    .dataframe tbody tr th {\n",
       "        vertical-align: top;\n",
       "    }\n",
       "\n",
       "    .dataframe thead th {\n",
       "        text-align: right;\n",
       "    }\n",
       "</style>\n",
       "<table border=\"1\" class=\"dataframe\">\n",
       "  <thead>\n",
       "    <tr style=\"text-align: right;\">\n",
       "      <th></th>\n",
       "      <th>satisfaction_level</th>\n",
       "      <th>last_evaluation</th>\n",
       "      <th>number_project</th>\n",
       "      <th>average_montly_hours</th>\n",
       "      <th>time_spend_company</th>\n",
       "      <th>Work_accident</th>\n",
       "      <th>left</th>\n",
       "      <th>promotion_last_5years</th>\n",
       "      <th>part</th>\n",
       "      <th>salary</th>\n",
       "    </tr>\n",
       "  </thead>\n",
       "  <tbody>\n",
       "    <tr>\n",
       "      <th>0</th>\n",
       "      <td>0.38</td>\n",
       "      <td>0.53</td>\n",
       "      <td>2</td>\n",
       "      <td>157</td>\n",
       "      <td>3</td>\n",
       "      <td>0</td>\n",
       "      <td>1</td>\n",
       "      <td>0</td>\n",
       "      <td>sales</td>\n",
       "      <td>low</td>\n",
       "    </tr>\n",
       "    <tr>\n",
       "      <th>1</th>\n",
       "      <td>0.80</td>\n",
       "      <td>0.86</td>\n",
       "      <td>5</td>\n",
       "      <td>262</td>\n",
       "      <td>6</td>\n",
       "      <td>0</td>\n",
       "      <td>1</td>\n",
       "      <td>0</td>\n",
       "      <td>sales</td>\n",
       "      <td>medium</td>\n",
       "    </tr>\n",
       "    <tr>\n",
       "      <th>2</th>\n",
       "      <td>0.11</td>\n",
       "      <td>0.88</td>\n",
       "      <td>7</td>\n",
       "      <td>272</td>\n",
       "      <td>4</td>\n",
       "      <td>0</td>\n",
       "      <td>1</td>\n",
       "      <td>0</td>\n",
       "      <td>sales</td>\n",
       "      <td>medium</td>\n",
       "    </tr>\n",
       "    <tr>\n",
       "      <th>3</th>\n",
       "      <td>0.72</td>\n",
       "      <td>0.87</td>\n",
       "      <td>5</td>\n",
       "      <td>223</td>\n",
       "      <td>5</td>\n",
       "      <td>0</td>\n",
       "      <td>1</td>\n",
       "      <td>0</td>\n",
       "      <td>sales</td>\n",
       "      <td>low</td>\n",
       "    </tr>\n",
       "    <tr>\n",
       "      <th>4</th>\n",
       "      <td>0.37</td>\n",
       "      <td>0.52</td>\n",
       "      <td>2</td>\n",
       "      <td>159</td>\n",
       "      <td>3</td>\n",
       "      <td>0</td>\n",
       "      <td>1</td>\n",
       "      <td>0</td>\n",
       "      <td>sales</td>\n",
       "      <td>low</td>\n",
       "    </tr>\n",
       "  </tbody>\n",
       "</table>\n",
       "</div>"
      ],
      "text/plain": [
       "   satisfaction_level  last_evaluation  number_project  average_montly_hours  \\\n",
       "0                0.38             0.53               2                   157   \n",
       "1                0.80             0.86               5                   262   \n",
       "2                0.11             0.88               7                   272   \n",
       "3                0.72             0.87               5                   223   \n",
       "4                0.37             0.52               2                   159   \n",
       "\n",
       "   time_spend_company  Work_accident  left  promotion_last_5years   part  \\\n",
       "0                   3              0     1                      0  sales   \n",
       "1                   6              0     1                      0  sales   \n",
       "2                   4              0     1                      0  sales   \n",
       "3                   5              0     1                      0  sales   \n",
       "4                   3              0     1                      0  sales   \n",
       "\n",
       "   salary  \n",
       "0     low  \n",
       "1  medium  \n",
       "2  medium  \n",
       "3     low  \n",
       "4     low  "
      ]
     },
     "execution_count": 3,
     "metadata": {},
     "output_type": "execute_result"
    }
   ],
   "source": [
    "data.head()"
   ]
  },
  {
   "cell_type": "code",
   "execution_count": 4,
   "metadata": {},
   "outputs": [
    {
     "name": "stdout",
     "output_type": "stream",
     "text": [
      "<class 'pandas.core.frame.DataFrame'>\n",
      "RangeIndex: 14999 entries, 0 to 14998\n",
      "Data columns (total 10 columns):\n",
      " #   Column                 Non-Null Count  Dtype  \n",
      "---  ------                 --------------  -----  \n",
      " 0   satisfaction_level     14999 non-null  float64\n",
      " 1   last_evaluation        14999 non-null  float64\n",
      " 2   number_project         14999 non-null  int64  \n",
      " 3   average_montly_hours   14999 non-null  int64  \n",
      " 4   time_spend_company     14999 non-null  int64  \n",
      " 5   Work_accident          14999 non-null  int64  \n",
      " 6   left                   14999 non-null  int64  \n",
      " 7   promotion_last_5years  14999 non-null  int64  \n",
      " 8   part                   14999 non-null  object \n",
      " 9   salary                 14999 non-null  object \n",
      "dtypes: float64(2), int64(6), object(2)\n",
      "memory usage: 1.1+ MB\n"
     ]
    }
   ],
   "source": [
    "data.info()"
   ]
  },
  {
   "cell_type": "code",
   "execution_count": 5,
   "metadata": {},
   "outputs": [
    {
     "data": {
      "text/plain": [
       "array(['sales', 'accounting', 'hr', 'technical', 'support', 'management',\n",
       "       'IT', 'product_mng', 'marketing', 'RandD'], dtype=object)"
      ]
     },
     "execution_count": 5,
     "metadata": {},
     "output_type": "execute_result"
    }
   ],
   "source": [
    "data.part.unique()"
   ]
  },
  {
   "cell_type": "code",
   "execution_count": 6,
   "metadata": {},
   "outputs": [
    {
     "data": {
      "text/plain": [
       "array(['low', 'medium', 'high'], dtype=object)"
      ]
     },
     "execution_count": 6,
     "metadata": {},
     "output_type": "execute_result"
    }
   ],
   "source": [
    "data.salary.unique()"
   ]
  },
  {
   "cell_type": "code",
   "execution_count": 7,
   "metadata": {},
   "outputs": [
    {
     "data": {
      "text/plain": [
       "salary  part       \n",
       "high    IT               83\n",
       "        RandD            51\n",
       "        accounting       74\n",
       "        hr               45\n",
       "        management      225\n",
       "        marketing        80\n",
       "        product_mng      68\n",
       "        sales           269\n",
       "        support         141\n",
       "        technical       201\n",
       "low     IT              609\n",
       "        RandD           364\n",
       "        accounting      358\n",
       "        hr              335\n",
       "        management      180\n",
       "        marketing       402\n",
       "        product_mng     451\n",
       "        sales          2099\n",
       "        support        1146\n",
       "        technical      1372\n",
       "medium  IT              535\n",
       "        RandD           372\n",
       "        accounting      335\n",
       "        hr              359\n",
       "        management      225\n",
       "        marketing       376\n",
       "        product_mng     383\n",
       "        sales          1772\n",
       "        support         942\n",
       "        technical      1147\n",
       "dtype: int64"
      ]
     },
     "execution_count": 7,
     "metadata": {},
     "output_type": "execute_result"
    }
   ],
   "source": [
    "data.groupby(['salary','part']).size()#分组"
   ]
  },
  {
   "cell_type": "code",
   "execution_count": 8,
   "metadata": {},
   "outputs": [],
   "source": [
    "data = data.join(pd.get_dummies(data.salary))#独热编码one-hot"
   ]
  },
  {
   "cell_type": "code",
   "execution_count": 9,
   "metadata": {},
   "outputs": [],
   "source": [
    "del data['salary']"
   ]
  },
  {
   "cell_type": "code",
   "execution_count": 10,
   "metadata": {},
   "outputs": [],
   "source": [
    "data = data.join(pd.get_dummies(data.part))#独热编码one-hot"
   ]
  },
  {
   "cell_type": "code",
   "execution_count": 11,
   "metadata": {},
   "outputs": [],
   "source": [
    "del data['part']"
   ]
  },
  {
   "cell_type": "code",
   "execution_count": 12,
   "metadata": {},
   "outputs": [
    {
     "data": {
      "text/html": [
       "<div>\n",
       "<style scoped>\n",
       "    .dataframe tbody tr th:only-of-type {\n",
       "        vertical-align: middle;\n",
       "    }\n",
       "\n",
       "    .dataframe tbody tr th {\n",
       "        vertical-align: top;\n",
       "    }\n",
       "\n",
       "    .dataframe thead th {\n",
       "        text-align: right;\n",
       "    }\n",
       "</style>\n",
       "<table border=\"1\" class=\"dataframe\">\n",
       "  <thead>\n",
       "    <tr style=\"text-align: right;\">\n",
       "      <th></th>\n",
       "      <th>satisfaction_level</th>\n",
       "      <th>last_evaluation</th>\n",
       "      <th>number_project</th>\n",
       "      <th>average_montly_hours</th>\n",
       "      <th>time_spend_company</th>\n",
       "      <th>Work_accident</th>\n",
       "      <th>left</th>\n",
       "      <th>promotion_last_5years</th>\n",
       "      <th>high</th>\n",
       "      <th>low</th>\n",
       "      <th>...</th>\n",
       "      <th>IT</th>\n",
       "      <th>RandD</th>\n",
       "      <th>accounting</th>\n",
       "      <th>hr</th>\n",
       "      <th>management</th>\n",
       "      <th>marketing</th>\n",
       "      <th>product_mng</th>\n",
       "      <th>sales</th>\n",
       "      <th>support</th>\n",
       "      <th>technical</th>\n",
       "    </tr>\n",
       "  </thead>\n",
       "  <tbody>\n",
       "    <tr>\n",
       "      <th>0</th>\n",
       "      <td>0.38</td>\n",
       "      <td>0.53</td>\n",
       "      <td>2</td>\n",
       "      <td>157</td>\n",
       "      <td>3</td>\n",
       "      <td>0</td>\n",
       "      <td>1</td>\n",
       "      <td>0</td>\n",
       "      <td>0</td>\n",
       "      <td>1</td>\n",
       "      <td>...</td>\n",
       "      <td>0</td>\n",
       "      <td>0</td>\n",
       "      <td>0</td>\n",
       "      <td>0</td>\n",
       "      <td>0</td>\n",
       "      <td>0</td>\n",
       "      <td>0</td>\n",
       "      <td>1</td>\n",
       "      <td>0</td>\n",
       "      <td>0</td>\n",
       "    </tr>\n",
       "    <tr>\n",
       "      <th>1</th>\n",
       "      <td>0.80</td>\n",
       "      <td>0.86</td>\n",
       "      <td>5</td>\n",
       "      <td>262</td>\n",
       "      <td>6</td>\n",
       "      <td>0</td>\n",
       "      <td>1</td>\n",
       "      <td>0</td>\n",
       "      <td>0</td>\n",
       "      <td>0</td>\n",
       "      <td>...</td>\n",
       "      <td>0</td>\n",
       "      <td>0</td>\n",
       "      <td>0</td>\n",
       "      <td>0</td>\n",
       "      <td>0</td>\n",
       "      <td>0</td>\n",
       "      <td>0</td>\n",
       "      <td>1</td>\n",
       "      <td>0</td>\n",
       "      <td>0</td>\n",
       "    </tr>\n",
       "    <tr>\n",
       "      <th>2</th>\n",
       "      <td>0.11</td>\n",
       "      <td>0.88</td>\n",
       "      <td>7</td>\n",
       "      <td>272</td>\n",
       "      <td>4</td>\n",
       "      <td>0</td>\n",
       "      <td>1</td>\n",
       "      <td>0</td>\n",
       "      <td>0</td>\n",
       "      <td>0</td>\n",
       "      <td>...</td>\n",
       "      <td>0</td>\n",
       "      <td>0</td>\n",
       "      <td>0</td>\n",
       "      <td>0</td>\n",
       "      <td>0</td>\n",
       "      <td>0</td>\n",
       "      <td>0</td>\n",
       "      <td>1</td>\n",
       "      <td>0</td>\n",
       "      <td>0</td>\n",
       "    </tr>\n",
       "    <tr>\n",
       "      <th>3</th>\n",
       "      <td>0.72</td>\n",
       "      <td>0.87</td>\n",
       "      <td>5</td>\n",
       "      <td>223</td>\n",
       "      <td>5</td>\n",
       "      <td>0</td>\n",
       "      <td>1</td>\n",
       "      <td>0</td>\n",
       "      <td>0</td>\n",
       "      <td>1</td>\n",
       "      <td>...</td>\n",
       "      <td>0</td>\n",
       "      <td>0</td>\n",
       "      <td>0</td>\n",
       "      <td>0</td>\n",
       "      <td>0</td>\n",
       "      <td>0</td>\n",
       "      <td>0</td>\n",
       "      <td>1</td>\n",
       "      <td>0</td>\n",
       "      <td>0</td>\n",
       "    </tr>\n",
       "    <tr>\n",
       "      <th>4</th>\n",
       "      <td>0.37</td>\n",
       "      <td>0.52</td>\n",
       "      <td>2</td>\n",
       "      <td>159</td>\n",
       "      <td>3</td>\n",
       "      <td>0</td>\n",
       "      <td>1</td>\n",
       "      <td>0</td>\n",
       "      <td>0</td>\n",
       "      <td>1</td>\n",
       "      <td>...</td>\n",
       "      <td>0</td>\n",
       "      <td>0</td>\n",
       "      <td>0</td>\n",
       "      <td>0</td>\n",
       "      <td>0</td>\n",
       "      <td>0</td>\n",
       "      <td>0</td>\n",
       "      <td>1</td>\n",
       "      <td>0</td>\n",
       "      <td>0</td>\n",
       "    </tr>\n",
       "    <tr>\n",
       "      <th>...</th>\n",
       "      <td>...</td>\n",
       "      <td>...</td>\n",
       "      <td>...</td>\n",
       "      <td>...</td>\n",
       "      <td>...</td>\n",
       "      <td>...</td>\n",
       "      <td>...</td>\n",
       "      <td>...</td>\n",
       "      <td>...</td>\n",
       "      <td>...</td>\n",
       "      <td>...</td>\n",
       "      <td>...</td>\n",
       "      <td>...</td>\n",
       "      <td>...</td>\n",
       "      <td>...</td>\n",
       "      <td>...</td>\n",
       "      <td>...</td>\n",
       "      <td>...</td>\n",
       "      <td>...</td>\n",
       "      <td>...</td>\n",
       "      <td>...</td>\n",
       "    </tr>\n",
       "    <tr>\n",
       "      <th>14994</th>\n",
       "      <td>0.40</td>\n",
       "      <td>0.57</td>\n",
       "      <td>2</td>\n",
       "      <td>151</td>\n",
       "      <td>3</td>\n",
       "      <td>0</td>\n",
       "      <td>1</td>\n",
       "      <td>0</td>\n",
       "      <td>0</td>\n",
       "      <td>1</td>\n",
       "      <td>...</td>\n",
       "      <td>0</td>\n",
       "      <td>0</td>\n",
       "      <td>0</td>\n",
       "      <td>0</td>\n",
       "      <td>0</td>\n",
       "      <td>0</td>\n",
       "      <td>0</td>\n",
       "      <td>0</td>\n",
       "      <td>1</td>\n",
       "      <td>0</td>\n",
       "    </tr>\n",
       "    <tr>\n",
       "      <th>14995</th>\n",
       "      <td>0.37</td>\n",
       "      <td>0.48</td>\n",
       "      <td>2</td>\n",
       "      <td>160</td>\n",
       "      <td>3</td>\n",
       "      <td>0</td>\n",
       "      <td>1</td>\n",
       "      <td>0</td>\n",
       "      <td>0</td>\n",
       "      <td>1</td>\n",
       "      <td>...</td>\n",
       "      <td>0</td>\n",
       "      <td>0</td>\n",
       "      <td>0</td>\n",
       "      <td>0</td>\n",
       "      <td>0</td>\n",
       "      <td>0</td>\n",
       "      <td>0</td>\n",
       "      <td>0</td>\n",
       "      <td>1</td>\n",
       "      <td>0</td>\n",
       "    </tr>\n",
       "    <tr>\n",
       "      <th>14996</th>\n",
       "      <td>0.37</td>\n",
       "      <td>0.53</td>\n",
       "      <td>2</td>\n",
       "      <td>143</td>\n",
       "      <td>3</td>\n",
       "      <td>0</td>\n",
       "      <td>1</td>\n",
       "      <td>0</td>\n",
       "      <td>0</td>\n",
       "      <td>1</td>\n",
       "      <td>...</td>\n",
       "      <td>0</td>\n",
       "      <td>0</td>\n",
       "      <td>0</td>\n",
       "      <td>0</td>\n",
       "      <td>0</td>\n",
       "      <td>0</td>\n",
       "      <td>0</td>\n",
       "      <td>0</td>\n",
       "      <td>1</td>\n",
       "      <td>0</td>\n",
       "    </tr>\n",
       "    <tr>\n",
       "      <th>14997</th>\n",
       "      <td>0.11</td>\n",
       "      <td>0.96</td>\n",
       "      <td>6</td>\n",
       "      <td>280</td>\n",
       "      <td>4</td>\n",
       "      <td>0</td>\n",
       "      <td>1</td>\n",
       "      <td>0</td>\n",
       "      <td>0</td>\n",
       "      <td>1</td>\n",
       "      <td>...</td>\n",
       "      <td>0</td>\n",
       "      <td>0</td>\n",
       "      <td>0</td>\n",
       "      <td>0</td>\n",
       "      <td>0</td>\n",
       "      <td>0</td>\n",
       "      <td>0</td>\n",
       "      <td>0</td>\n",
       "      <td>1</td>\n",
       "      <td>0</td>\n",
       "    </tr>\n",
       "    <tr>\n",
       "      <th>14998</th>\n",
       "      <td>0.37</td>\n",
       "      <td>0.52</td>\n",
       "      <td>2</td>\n",
       "      <td>158</td>\n",
       "      <td>3</td>\n",
       "      <td>0</td>\n",
       "      <td>1</td>\n",
       "      <td>0</td>\n",
       "      <td>0</td>\n",
       "      <td>1</td>\n",
       "      <td>...</td>\n",
       "      <td>0</td>\n",
       "      <td>0</td>\n",
       "      <td>0</td>\n",
       "      <td>0</td>\n",
       "      <td>0</td>\n",
       "      <td>0</td>\n",
       "      <td>0</td>\n",
       "      <td>0</td>\n",
       "      <td>1</td>\n",
       "      <td>0</td>\n",
       "    </tr>\n",
       "  </tbody>\n",
       "</table>\n",
       "<p>14999 rows × 21 columns</p>\n",
       "</div>"
      ],
      "text/plain": [
       "       satisfaction_level  last_evaluation  number_project  \\\n",
       "0                    0.38             0.53               2   \n",
       "1                    0.80             0.86               5   \n",
       "2                    0.11             0.88               7   \n",
       "3                    0.72             0.87               5   \n",
       "4                    0.37             0.52               2   \n",
       "...                   ...              ...             ...   \n",
       "14994                0.40             0.57               2   \n",
       "14995                0.37             0.48               2   \n",
       "14996                0.37             0.53               2   \n",
       "14997                0.11             0.96               6   \n",
       "14998                0.37             0.52               2   \n",
       "\n",
       "       average_montly_hours  time_spend_company  Work_accident  left  \\\n",
       "0                       157                   3              0     1   \n",
       "1                       262                   6              0     1   \n",
       "2                       272                   4              0     1   \n",
       "3                       223                   5              0     1   \n",
       "4                       159                   3              0     1   \n",
       "...                     ...                 ...            ...   ...   \n",
       "14994                   151                   3              0     1   \n",
       "14995                   160                   3              0     1   \n",
       "14996                   143                   3              0     1   \n",
       "14997                   280                   4              0     1   \n",
       "14998                   158                   3              0     1   \n",
       "\n",
       "       promotion_last_5years  high  low  ...  IT  RandD  accounting  hr  \\\n",
       "0                          0     0    1  ...   0      0           0   0   \n",
       "1                          0     0    0  ...   0      0           0   0   \n",
       "2                          0     0    0  ...   0      0           0   0   \n",
       "3                          0     0    1  ...   0      0           0   0   \n",
       "4                          0     0    1  ...   0      0           0   0   \n",
       "...                      ...   ...  ...  ...  ..    ...         ...  ..   \n",
       "14994                      0     0    1  ...   0      0           0   0   \n",
       "14995                      0     0    1  ...   0      0           0   0   \n",
       "14996                      0     0    1  ...   0      0           0   0   \n",
       "14997                      0     0    1  ...   0      0           0   0   \n",
       "14998                      0     0    1  ...   0      0           0   0   \n",
       "\n",
       "       management  marketing  product_mng  sales  support  technical  \n",
       "0               0          0            0      1        0          0  \n",
       "1               0          0            0      1        0          0  \n",
       "2               0          0            0      1        0          0  \n",
       "3               0          0            0      1        0          0  \n",
       "4               0          0            0      1        0          0  \n",
       "...           ...        ...          ...    ...      ...        ...  \n",
       "14994           0          0            0      0        1          0  \n",
       "14995           0          0            0      0        1          0  \n",
       "14996           0          0            0      0        1          0  \n",
       "14997           0          0            0      0        1          0  \n",
       "14998           0          0            0      0        1          0  \n",
       "\n",
       "[14999 rows x 21 columns]"
      ]
     },
     "execution_count": 12,
     "metadata": {},
     "output_type": "execute_result"
    }
   ],
   "source": [
    "data"
   ]
  },
  {
   "cell_type": "code",
   "execution_count": 13,
   "metadata": {
    "scrolled": true
   },
   "outputs": [
    {
     "data": {
      "text/plain": [
       "0    11428\n",
       "1     3571\n",
       "Name: left, dtype: int64"
      ]
     },
     "execution_count": 13,
     "metadata": {},
     "output_type": "execute_result"
    }
   ],
   "source": [
    "data.left.value_counts()#统计left不同值的个数"
   ]
  },
  {
   "cell_type": "code",
   "execution_count": 14,
   "metadata": {},
   "outputs": [
    {
     "data": {
      "text/plain": [
       "14999"
      ]
     },
     "execution_count": 14,
     "metadata": {},
     "output_type": "execute_result"
    }
   ],
   "source": [
    "len(data)"
   ]
  },
  {
   "cell_type": "code",
   "execution_count": 15,
   "metadata": {},
   "outputs": [],
   "source": [
    "Y_data = data.left.values.reshape(-1,1)"
   ]
  },
  {
   "cell_type": "code",
   "execution_count": 16,
   "metadata": {},
   "outputs": [
    {
     "data": {
      "text/plain": [
       "(14999, 1)"
      ]
     },
     "execution_count": 16,
     "metadata": {},
     "output_type": "execute_result"
    }
   ],
   "source": [
    "Y_data.shape"
   ]
  },
  {
   "cell_type": "code",
   "execution_count": 17,
   "metadata": {},
   "outputs": [],
   "source": [
    "Y = torch.from_numpy(Y_data).type(torch.float32)"
   ]
  },
  {
   "cell_type": "code",
   "execution_count": 18,
   "metadata": {},
   "outputs": [
    {
     "data": {
      "text/plain": [
       "tensor([[1.],\n",
       "        [1.],\n",
       "        [1.],\n",
       "        ...,\n",
       "        [1.],\n",
       "        [1.],\n",
       "        [1.]])"
      ]
     },
     "execution_count": 18,
     "metadata": {},
     "output_type": "execute_result"
    }
   ],
   "source": [
    "Y"
   ]
  },
  {
   "cell_type": "code",
   "execution_count": 19,
   "metadata": {},
   "outputs": [],
   "source": [
    "X_data= data[[c for c in data.columns if c !='left']].values#列表推导式"
   ]
  },
  {
   "cell_type": "code",
   "execution_count": 20,
   "metadata": {},
   "outputs": [],
   "source": [
    "X = torch.from_numpy(X_data).type(torch.float32)"
   ]
  },
  {
   "cell_type": "code",
   "execution_count": 21,
   "metadata": {},
   "outputs": [
    {
     "data": {
      "text/plain": [
       "torch.Size([14999, 20])"
      ]
     },
     "execution_count": 21,
     "metadata": {},
     "output_type": "execute_result"
    }
   ],
   "source": [
    "X.size()"
   ]
  },
  {
   "cell_type": "code",
   "execution_count": 22,
   "metadata": {},
   "outputs": [
    {
     "data": {
      "text/plain": [
       "torch.Size([14999, 1])"
      ]
     },
     "execution_count": 22,
     "metadata": {},
     "output_type": "execute_result"
    }
   ],
   "source": [
    "Y.shape"
   ]
  },
  {
   "cell_type": "markdown",
   "metadata": {},
   "source": [
    "## 创建模型"
   ]
  },
  {
   "cell_type": "code",
   "execution_count": 23,
   "metadata": {},
   "outputs": [],
   "source": [
    "from torch import nn"
   ]
  },
  {
   "cell_type": "markdown",
   "metadata": {},
   "source": [
    "自定义模型：  \n",
    "__int__: 初始化所有的层  \n",
    "forward：定义模型的运算过程（前向传播过程）"
   ]
  },
  {
   "cell_type": "code",
   "execution_count": 24,
   "metadata": {},
   "outputs": [],
   "source": [
    "class Model(nn.Module):                        #不是model\n",
    "    def __init__(self):\n",
    "        super().__init__()\n",
    "        self.linear_1 = nn.Linear(20,64)       #输入20输出64\n",
    "        self.linear_2 = nn.Linear(64,64)\n",
    "        self.linear_3 = nn.Linear(64,1)        #逻辑回归最终输出为1\n",
    "        self.relu = nn.ReLU()\n",
    "        self.sigmoid = nn.Sigmoid()\n",
    "    def forward(self,input):\n",
    "        x = self.linear_1(input)\n",
    "        x = self.relu(x)\n",
    "        x = self.linear_2(input)\n",
    "        x = self.relu(x)\n",
    "        x = self.linear_3(input)\n",
    "        x = self.sigmoid(x)\n",
    "        return x"
   ]
  },
  {
   "cell_type": "code",
   "execution_count": 25,
   "metadata": {},
   "outputs": [],
   "source": [
    "model = Model()"
   ]
  },
  {
   "cell_type": "markdown",
   "metadata": {},
   "source": [
    "## 改写模型"
   ]
  },
  {
   "cell_type": "code",
   "execution_count": 26,
   "metadata": {},
   "outputs": [],
   "source": [
    "import torch.nn.functional as F"
   ]
  },
  {
   "cell_type": "code",
   "execution_count": 27,
   "metadata": {},
   "outputs": [],
   "source": [
    "class Model(nn.Module):                        #不是model\n",
    "    def __init__(self):\n",
    "        super().__init__()\n",
    "        self.linear_1 = nn.Linear(20,64)       #输入20输出64\n",
    "        self.linear_2 = nn.Linear(64,64)\n",
    "        self.linear_3 = nn.Linear(64,1)        #逻辑回归最终输出为1\n",
    "    def forward(self,input):\n",
    "        x = F.relu(self.linear_1(input))\n",
    "        x = F.relu((self.linear_2(x)))\n",
    "        x = F.sigmoid((self.linear_3(x)))\n",
    "        return x"
   ]
  },
  {
   "cell_type": "code",
   "execution_count": 28,
   "metadata": {},
   "outputs": [],
   "source": [
    "model = Model()"
   ]
  },
  {
   "cell_type": "code",
   "execution_count": 29,
   "metadata": {
    "scrolled": true
   },
   "outputs": [
    {
     "data": {
      "text/plain": [
       "Model(\n",
       "  (linear_1): Linear(in_features=20, out_features=64, bias=True)\n",
       "  (linear_2): Linear(in_features=64, out_features=64, bias=True)\n",
       "  (linear_3): Linear(in_features=64, out_features=1, bias=True)\n",
       ")"
      ]
     },
     "execution_count": 29,
     "metadata": {},
     "output_type": "execute_result"
    }
   ],
   "source": [
    "model"
   ]
  },
  {
   "cell_type": "code",
   "execution_count": 30,
   "metadata": {},
   "outputs": [],
   "source": [
    "learning = 0.001"
   ]
  },
  {
   "cell_type": "code",
   "execution_count": 31,
   "metadata": {},
   "outputs": [],
   "source": [
    "def get_model():\n",
    "    model = Model()\n",
    "    opt = torch.optim.Adam(model.parameters(),lr=learning)\n",
    "    return model,opt"
   ]
  },
  {
   "cell_type": "code",
   "execution_count": 32,
   "metadata": {},
   "outputs": [],
   "source": [
    "model ,optim = get_model()"
   ]
  },
  {
   "cell_type": "markdown",
   "metadata": {},
   "source": [
    "## 定义损失函数"
   ]
  },
  {
   "cell_type": "code",
   "execution_count": 33,
   "metadata": {},
   "outputs": [],
   "source": [
    "loss_fn = nn.BCELoss()"
   ]
  },
  {
   "cell_type": "code",
   "execution_count": 34,
   "metadata": {},
   "outputs": [],
   "source": [
    "batch = 64\n",
    "no_of_batches = len(data)//batch\n",
    "epochs = 100"
   ]
  },
  {
   "cell_type": "code",
   "execution_count": 35,
   "metadata": {},
   "outputs": [
    {
     "name": "stderr",
     "output_type": "stream",
     "text": [
      "D:\\Anaconda\\envs\\pytorch\\lib\\site-packages\\torch\\nn\\functional.py:1350: UserWarning: nn.functional.sigmoid is deprecated. Use torch.sigmoid instead.\n",
      "  warnings.warn(\"nn.functional.sigmoid is deprecated. Use torch.sigmoid instead.\")\n"
     ]
    },
    {
     "name": "stdout",
     "output_type": "stream",
     "text": [
      "epoch 0 loss 0.5927024483680725\n",
      "epoch 1 loss 0.6552059650421143\n",
      "epoch 2 loss 0.5867846012115479\n",
      "epoch 3 loss 0.6032168865203857\n",
      "epoch 4 loss 0.6233773827552795\n",
      "epoch 5 loss 0.6074861884117126\n",
      "epoch 6 loss 0.6510524153709412\n",
      "epoch 7 loss 0.6319971680641174\n",
      "epoch 8 loss 0.5774888396263123\n",
      "epoch 9 loss 0.6484155058860779\n",
      "epoch 10 loss 0.6515631675720215\n",
      "epoch 11 loss 0.6164216995239258\n",
      "epoch 12 loss 0.5874398350715637\n",
      "epoch 13 loss 0.5665642619132996\n",
      "epoch 14 loss 0.5552641153335571\n",
      "epoch 15 loss 0.5507842302322388\n",
      "epoch 16 loss 0.5493012070655823\n",
      "epoch 17 loss 0.5489226579666138\n",
      "epoch 18 loss 0.5489834547042847\n",
      "epoch 19 loss 0.548973560333252\n",
      "epoch 20 loss 0.5490770936012268\n",
      "epoch 21 loss 0.5490998029708862\n",
      "epoch 22 loss 0.5492899417877197\n",
      "epoch 23 loss 0.5492200255393982\n",
      "epoch 24 loss 0.5492886900901794\n",
      "epoch 25 loss 0.54923415184021\n",
      "epoch 26 loss 0.5493602752685547\n",
      "epoch 27 loss 0.549354076385498\n",
      "epoch 28 loss 0.5492085814476013\n",
      "epoch 29 loss 0.5492201447486877\n",
      "epoch 30 loss 0.5492309927940369\n",
      "epoch 31 loss 0.5492196083068848\n",
      "epoch 32 loss 0.5492090582847595\n",
      "epoch 33 loss 0.5494153499603271\n",
      "epoch 34 loss 0.5493456125259399\n",
      "epoch 35 loss 0.5493842959403992\n",
      "epoch 36 loss 0.5493072867393494\n",
      "epoch 37 loss 0.549268901348114\n",
      "epoch 38 loss 0.5491841435432434\n",
      "epoch 39 loss 0.549209475517273\n",
      "epoch 40 loss 0.549347996711731\n",
      "epoch 41 loss 0.5493336915969849\n",
      "epoch 42 loss 0.5492892265319824\n",
      "epoch 43 loss 0.5491931438446045\n",
      "epoch 44 loss 0.5491729378700256\n",
      "epoch 45 loss 0.5493572354316711\n",
      "epoch 46 loss 0.5493267178535461\n",
      "epoch 47 loss 0.5492390990257263\n",
      "epoch 48 loss 0.5491849780082703\n",
      "epoch 49 loss 0.5491631031036377\n",
      "epoch 50 loss 0.5493003726005554\n",
      "epoch 51 loss 0.5493164658546448\n",
      "epoch 52 loss 0.5492284297943115\n",
      "epoch 53 loss 0.5491264462471008\n",
      "epoch 54 loss 0.5491527318954468\n",
      "epoch 55 loss 0.5492900013923645\n",
      "epoch 56 loss 0.5492639541625977\n",
      "epoch 57 loss 0.5491706728935242\n",
      "epoch 58 loss 0.5491353273391724\n",
      "epoch 59 loss 0.5491161942481995\n",
      "epoch 60 loss 0.5490812063217163\n",
      "epoch 61 loss 0.5492280125617981\n",
      "epoch 62 loss 0.5492038726806641\n",
      "epoch 63 loss 0.5492540001869202\n",
      "epoch 64 loss 0.549194872379303\n",
      "epoch 65 loss 0.5491927862167358\n",
      "epoch 66 loss 0.5491927862167358\n",
      "epoch 67 loss 0.5491926074028015\n",
      "epoch 68 loss 0.5491857528686523\n",
      "epoch 69 loss 0.5491651892662048\n",
      "epoch 70 loss 0.5491517782211304\n",
      "epoch 71 loss 0.5491280555725098\n",
      "epoch 72 loss 0.5491257309913635\n",
      "epoch 73 loss 0.5491054654121399\n",
      "epoch 74 loss 0.5490254163742065\n",
      "epoch 75 loss 0.5492260456085205\n",
      "epoch 76 loss 0.549217164516449\n",
      "epoch 77 loss 0.5491852164268494\n",
      "epoch 78 loss 0.5491546988487244\n",
      "epoch 79 loss 0.5490778684616089\n",
      "epoch 80 loss 0.5491156578063965\n",
      "epoch 81 loss 0.549034595489502\n",
      "epoch 82 loss 0.5492310523986816\n",
      "epoch 83 loss 0.54915851354599\n",
      "epoch 84 loss 0.5491957664489746\n",
      "epoch 85 loss 0.5491135120391846\n",
      "epoch 86 loss 0.5490809679031372\n",
      "epoch 87 loss 0.5490699410438538\n",
      "epoch 88 loss 0.5490354895591736\n",
      "epoch 89 loss 0.5491812825202942\n",
      "epoch 90 loss 0.5491482615470886\n",
      "epoch 91 loss 0.5491372346878052\n",
      "epoch 92 loss 0.549092710018158\n",
      "epoch 93 loss 0.5490095019340515\n",
      "epoch 94 loss 0.5490471124649048\n",
      "epoch 95 loss 0.5491921305656433\n",
      "epoch 96 loss 0.5491513013839722\n",
      "epoch 97 loss 0.5491388440132141\n",
      "epoch 98 loss 0.5490553379058838\n",
      "epoch 99 loss 0.5490187406539917\n"
     ]
    }
   ],
   "source": [
    "for epoch in range(epochs):\n",
    "    for i in range(no_of_batches):\n",
    "        start = i*batch\n",
    "        end = start + batch\n",
    "        x = X[start:end]\n",
    "        y = Y[start:end]\n",
    "        y_pred = model(x)\n",
    "        loss = loss_fn(y_pred,y)\n",
    "        optim.zero_grad()\n",
    "        loss.backward()\n",
    "        optim.step()\n",
    "    with torch.no_grad():\n",
    "        print('epoch',epoch,'loss',loss_fn(model(X),Y).data.item())"
   ]
  },
  {
   "cell_type": "code",
   "execution_count": 36,
   "metadata": {},
   "outputs": [
    {
     "data": {
      "text/plain": [
       "tensor(0.5490, grad_fn=<BinaryCrossEntropyBackward>)"
      ]
     },
     "execution_count": 36,
     "metadata": {},
     "output_type": "execute_result"
    }
   ],
   "source": [
    "loss_fn(model(X),Y)"
   ]
  },
  {
   "cell_type": "markdown",
   "metadata": {},
   "source": [
    "## 使用dataset类进行重构"
   ]
  },
  {
   "cell_type": "code",
   "execution_count": 37,
   "metadata": {},
   "outputs": [],
   "source": [
    "from torch.utils.data import TensorDataset"
   ]
  },
  {
   "cell_type": "code",
   "execution_count": 38,
   "metadata": {},
   "outputs": [],
   "source": [
    "HRdataset = TensorDataset(X,Y)"
   ]
  },
  {
   "cell_type": "code",
   "execution_count": 39,
   "metadata": {},
   "outputs": [
    {
     "data": {
      "text/plain": [
       "<torch.utils.data.dataset.TensorDataset at 0x2310509d3c8>"
      ]
     },
     "execution_count": 39,
     "metadata": {},
     "output_type": "execute_result"
    }
   ],
   "source": [
    "HRdataset"
   ]
  },
  {
   "cell_type": "code",
   "execution_count": 40,
   "metadata": {},
   "outputs": [
    {
     "data": {
      "text/plain": [
       "14999"
      ]
     },
     "execution_count": 40,
     "metadata": {},
     "output_type": "execute_result"
    }
   ],
   "source": [
    "len(HRdataset)"
   ]
  },
  {
   "cell_type": "code",
   "execution_count": 41,
   "metadata": {},
   "outputs": [
    {
     "data": {
      "text/plain": [
       "(tensor([[1.1000e-01, 8.8000e-01, 7.0000e+00, 2.7200e+02, 4.0000e+00, 0.0000e+00,\n",
       "          0.0000e+00, 0.0000e+00, 0.0000e+00, 1.0000e+00, 0.0000e+00, 0.0000e+00,\n",
       "          0.0000e+00, 0.0000e+00, 0.0000e+00, 0.0000e+00, 0.0000e+00, 1.0000e+00,\n",
       "          0.0000e+00, 0.0000e+00],\n",
       "         [7.2000e-01, 8.7000e-01, 5.0000e+00, 2.2300e+02, 5.0000e+00, 0.0000e+00,\n",
       "          0.0000e+00, 0.0000e+00, 1.0000e+00, 0.0000e+00, 0.0000e+00, 0.0000e+00,\n",
       "          0.0000e+00, 0.0000e+00, 0.0000e+00, 0.0000e+00, 0.0000e+00, 1.0000e+00,\n",
       "          0.0000e+00, 0.0000e+00],\n",
       "         [3.7000e-01, 5.2000e-01, 2.0000e+00, 1.5900e+02, 3.0000e+00, 0.0000e+00,\n",
       "          0.0000e+00, 0.0000e+00, 1.0000e+00, 0.0000e+00, 0.0000e+00, 0.0000e+00,\n",
       "          0.0000e+00, 0.0000e+00, 0.0000e+00, 0.0000e+00, 0.0000e+00, 1.0000e+00,\n",
       "          0.0000e+00, 0.0000e+00]]),\n",
       " tensor([[1.],\n",
       "         [1.],\n",
       "         [1.]]))"
      ]
     },
     "execution_count": 41,
     "metadata": {},
     "output_type": "execute_result"
    }
   ],
   "source": [
    "HRdataset[2:5]"
   ]
  },
  {
   "cell_type": "code",
   "execution_count": 42,
   "metadata": {},
   "outputs": [],
   "source": [
    "model ,optim = get_model()"
   ]
  },
  {
   "cell_type": "code",
   "execution_count": 43,
   "metadata": {},
   "outputs": [
    {
     "name": "stdout",
     "output_type": "stream",
     "text": [
      "epoch 0 loss 0.5840166211128235\n",
      "epoch 1 loss 0.5937082171440125\n",
      "epoch 2 loss 0.5775942802429199\n",
      "epoch 3 loss 0.5740918517112732\n",
      "epoch 4 loss 0.6236390471458435\n",
      "epoch 5 loss 0.6131027936935425\n",
      "epoch 6 loss 0.6411235928535461\n",
      "epoch 7 loss 0.6231314539909363\n",
      "epoch 8 loss 0.5792242288589478\n",
      "epoch 9 loss 0.5579831004142761\n",
      "epoch 10 loss 0.5511090755462646\n",
      "epoch 11 loss 0.5490661859512329\n",
      "epoch 12 loss 0.548747181892395\n",
      "epoch 13 loss 0.548991322517395\n",
      "epoch 14 loss 0.5488781929016113\n",
      "epoch 15 loss 0.54966139793396\n",
      "epoch 16 loss 0.5490298271179199\n",
      "epoch 17 loss 0.5489349961280823\n",
      "epoch 18 loss 0.5490275621414185\n",
      "epoch 19 loss 0.5489771366119385\n",
      "epoch 20 loss 0.5491146445274353\n",
      "epoch 21 loss 0.5492742657661438\n",
      "epoch 22 loss 0.5491925477981567\n",
      "epoch 23 loss 0.5492414832115173\n",
      "epoch 24 loss 0.5493940114974976\n",
      "epoch 25 loss 0.5492187738418579\n",
      "epoch 26 loss 0.5492393374443054\n",
      "epoch 27 loss 0.5492630004882812\n",
      "epoch 28 loss 0.5492633581161499\n",
      "epoch 29 loss 0.5492414236068726\n",
      "epoch 30 loss 0.5492785573005676\n",
      "epoch 31 loss 0.5494145750999451\n",
      "epoch 32 loss 0.5493809580802917\n",
      "epoch 33 loss 0.5492773056030273\n",
      "epoch 34 loss 0.5492327809333801\n",
      "epoch 35 loss 0.5493472218513489\n",
      "epoch 36 loss 0.5492993593215942\n",
      "epoch 37 loss 0.5492441058158875\n",
      "epoch 38 loss 0.5493485927581787\n",
      "epoch 39 loss 0.5493019223213196\n",
      "epoch 40 loss 0.5491818785667419\n",
      "epoch 41 loss 0.5493572354316711\n",
      "epoch 42 loss 0.5493019819259644\n",
      "epoch 43 loss 0.5491770505905151\n",
      "epoch 44 loss 0.5491326451301575\n",
      "epoch 45 loss 0.5493165254592896\n",
      "epoch 46 loss 0.5492095947265625\n",
      "epoch 47 loss 0.5491846203804016\n",
      "epoch 48 loss 0.54909348487854\n",
      "epoch 49 loss 0.549290657043457\n",
      "epoch 50 loss 0.5492693185806274\n",
      "epoch 51 loss 0.5492672324180603\n",
      "epoch 52 loss 0.5492755770683289\n",
      "epoch 53 loss 0.5492969751358032\n",
      "epoch 54 loss 0.5490920543670654\n",
      "epoch 55 loss 0.5491763353347778\n",
      "epoch 56 loss 0.5491985082626343\n",
      "epoch 57 loss 0.5492417216300964\n",
      "epoch 58 loss 0.5492643713951111\n",
      "epoch 59 loss 0.5492880940437317\n",
      "epoch 60 loss 0.5493088364601135\n",
      "epoch 61 loss 0.5493596792221069\n",
      "epoch 62 loss 0.5493089556694031\n",
      "epoch 63 loss 0.5493008494377136\n",
      "epoch 64 loss 0.5492860078811646\n",
      "epoch 65 loss 0.5492746829986572\n",
      "epoch 66 loss 0.549253523349762\n",
      "epoch 67 loss 0.5493137836456299\n",
      "epoch 68 loss 0.5492423176765442\n",
      "epoch 69 loss 0.5492308735847473\n",
      "epoch 70 loss 0.5492091774940491\n",
      "epoch 71 loss 0.5491462349891663\n",
      "epoch 72 loss 0.5491243600845337\n",
      "epoch 73 loss 0.5491767525672913\n",
      "epoch 74 loss 0.5491548776626587\n",
      "epoch 75 loss 0.5490915775299072\n",
      "epoch 76 loss 0.5492990612983704\n",
      "epoch 77 loss 0.5492756962776184\n",
      "epoch 78 loss 0.5492135882377625\n",
      "epoch 79 loss 0.5492575168609619\n",
      "epoch 80 loss 0.5492421388626099\n",
      "epoch 81 loss 0.5491700172424316\n",
      "epoch 82 loss 0.5491466522216797\n",
      "epoch 83 loss 0.5491290092468262\n",
      "epoch 84 loss 0.5491268634796143\n",
      "epoch 85 loss 0.549103319644928\n",
      "epoch 86 loss 0.549083411693573\n",
      "epoch 87 loss 0.5492386221885681\n",
      "epoch 88 loss 0.5492150783538818\n",
      "epoch 89 loss 0.5492684245109558\n",
      "epoch 90 loss 0.5491947531700134\n",
      "epoch 91 loss 0.5491707921028137\n",
      "epoch 92 loss 0.5491493344306946\n",
      "epoch 93 loss 0.5490754842758179\n",
      "epoch 94 loss 0.5491174459457397\n",
      "epoch 95 loss 0.5490947365760803\n",
      "epoch 96 loss 0.5492538809776306\n",
      "epoch 97 loss 0.5492280721664429\n",
      "epoch 98 loss 0.5491984486579895\n",
      "epoch 99 loss 0.5491959452629089\n"
     ]
    }
   ],
   "source": [
    "for epoch in range(epochs):\n",
    "    for i in range(no_of_batches):\n",
    "        #start = i*batch\n",
    "        #end = start + batch\n",
    "        #x = X[start:end]\n",
    "        #y = Y[start:end]\n",
    "        x,y = HRdataset[i*batch:i*batch+batch]\n",
    "        y_pred = model(x)\n",
    "        loss = loss_fn(y_pred,y)\n",
    "        optim.zero_grad()\n",
    "        loss.backward()\n",
    "        optim.step()\n",
    "    with torch.no_grad():\n",
    "        print('epoch',epoch,'loss',loss_fn(model(X),Y).data.item())"
   ]
  },
  {
   "cell_type": "markdown",
   "metadata": {},
   "source": [
    "## dataloader类"
   ]
  },
  {
   "cell_type": "code",
   "execution_count": 44,
   "metadata": {},
   "outputs": [],
   "source": [
    "from torch.utils.data import DataLoader"
   ]
  },
  {
   "cell_type": "code",
   "execution_count": 45,
   "metadata": {},
   "outputs": [],
   "source": [
    "HR_ds = TensorDataset(X,Y)\n",
    "HR_dl = DataLoader(HR_ds,batch_size=batch,shuffle=True)   #shuffle代表是否乱序"
   ]
  },
  {
   "cell_type": "code",
   "execution_count": 46,
   "metadata": {},
   "outputs": [],
   "source": [
    "model ,optim = get_model()"
   ]
  },
  {
   "cell_type": "code",
   "execution_count": 47,
   "metadata": {},
   "outputs": [
    {
     "name": "stdout",
     "output_type": "stream",
     "text": [
      " epoch  0  loss  0.539408802986145\n",
      " epoch  1  loss  0.4217658042907715\n",
      " epoch  2  loss  0.3445434868335724\n",
      " epoch  3  loss  0.32107123732566833\n",
      " epoch  4  loss  0.33560508489608765\n",
      " epoch  5  loss  0.2963852882385254\n",
      " epoch  6  loss  0.38604986667633057\n",
      " epoch  7  loss  0.26753678917884827\n",
      " epoch  8  loss  0.26621219515800476\n",
      " epoch  9  loss  0.2792888879776001\n",
      " epoch  10  loss  0.25702884793281555\n",
      " epoch  11  loss  0.2834628224372864\n",
      " epoch  12  loss  0.2485664188861847\n",
      " epoch  13  loss  0.24139216542243958\n",
      " epoch  14  loss  0.24129919707775116\n",
      " epoch  15  loss  0.23803061246871948\n",
      " epoch  16  loss  0.23438630998134613\n",
      " epoch  17  loss  0.2652568221092224\n",
      " epoch  18  loss  0.22176623344421387\n",
      " epoch  19  loss  0.2260322868824005\n",
      " epoch  20  loss  0.21701645851135254\n",
      " epoch  21  loss  0.22693881392478943\n",
      " epoch  22  loss  0.20940974354743958\n",
      " epoch  23  loss  0.25319334864616394\n",
      " epoch  24  loss  0.21331121027469635\n",
      " epoch  25  loss  0.20442485809326172\n",
      " epoch  26  loss  0.21174690127372742\n",
      " epoch  27  loss  0.20338359475135803\n",
      " epoch  28  loss  0.3306943476200104\n",
      " epoch  29  loss  0.19143997132778168\n",
      " epoch  30  loss  0.2690552771091461\n",
      " epoch  31  loss  0.19795788824558258\n",
      " epoch  32  loss  0.18166884779930115\n",
      " epoch  33  loss  0.20366807281970978\n",
      " epoch  34  loss  0.24237960577011108\n",
      " epoch  35  loss  0.19674792885780334\n",
      " epoch  36  loss  0.17843803763389587\n",
      " epoch  37  loss  0.17968149483203888\n",
      " epoch  38  loss  0.21140314638614655\n",
      " epoch  39  loss  0.20816992223262787\n",
      " epoch  40  loss  0.16850844025611877\n",
      " epoch  41  loss  0.1874762624502182\n",
      " epoch  42  loss  0.1866070181131363\n",
      " epoch  43  loss  0.16259801387786865\n",
      " epoch  44  loss  0.1771850734949112\n",
      " epoch  45  loss  0.1945147067308426\n",
      " epoch  46  loss  0.16023096442222595\n",
      " epoch  47  loss  0.16980639100074768\n",
      " epoch  48  loss  0.17533329129219055\n",
      " epoch  49  loss  0.15767541527748108\n",
      " epoch  50  loss  0.15643717348575592\n",
      " epoch  51  loss  0.1613941490650177\n",
      " epoch  52  loss  0.15553730726242065\n",
      " epoch  53  loss  0.17630571126937866\n",
      " epoch  54  loss  0.16708990931510925\n",
      " epoch  55  loss  0.1582443118095398\n",
      " epoch  56  loss  0.1695515662431717\n",
      " epoch  57  loss  0.17814382910728455\n",
      " epoch  58  loss  0.14973774552345276\n",
      " epoch  59  loss  0.15292248129844666\n",
      " epoch  60  loss  0.17833316326141357\n",
      " epoch  61  loss  0.16819866001605988\n",
      " epoch  62  loss  0.15635628998279572\n",
      " epoch  63  loss  0.14763693511486053\n",
      " epoch  64  loss  0.1750086098909378\n",
      " epoch  65  loss  0.17106689512729645\n",
      " epoch  66  loss  0.20671947300434113\n",
      " epoch  67  loss  0.15848250687122345\n",
      " epoch  68  loss  0.13129113614559174\n",
      " epoch  69  loss  0.13959984481334686\n",
      " epoch  70  loss  0.15570752322673798\n",
      " epoch  71  loss  0.1473167985677719\n",
      " epoch  72  loss  0.165305033326149\n",
      " epoch  73  loss  0.1361086666584015\n",
      " epoch  74  loss  0.12466201186180115\n",
      " epoch  75  loss  0.12186878174543381\n",
      " epoch  76  loss  0.15444695949554443\n",
      " epoch  77  loss  0.1314356029033661\n",
      " epoch  78  loss  0.12188450247049332\n",
      " epoch  79  loss  0.13274723291397095\n",
      " epoch  80  loss  0.14837472140789032\n",
      " epoch  81  loss  0.12318281084299088\n",
      " epoch  82  loss  0.12959825992584229\n",
      " epoch  83  loss  0.11112013459205627\n",
      " epoch  84  loss  0.1213761568069458\n",
      " epoch  85  loss  0.10794355720281601\n",
      " epoch  86  loss  0.11713568866252899\n",
      " epoch  87  loss  0.11473220586776733\n",
      " epoch  88  loss  0.12792611122131348\n",
      " epoch  89  loss  0.125139057636261\n",
      " epoch  90  loss  0.11771896481513977\n",
      " epoch  91  loss  0.12391125410795212\n",
      " epoch  92  loss  0.11261072009801865\n",
      " epoch  93  loss  0.1101829931139946\n",
      " epoch  94  loss  0.11330585181713104\n",
      " epoch  95  loss  0.11479001492261887\n",
      " epoch  96  loss  0.11743052303791046\n",
      " epoch  97  loss  0.10899890959262848\n",
      " epoch  98  loss  0.10432615131139755\n",
      " epoch  99  loss  0.10959040373563766\n"
     ]
    }
   ],
   "source": [
    "for epoch in range(epochs):\n",
    "    for x,y in HR_dl:\n",
    "        y_pred = model(x)\n",
    "        loss = loss_fn(y_pred,y)\n",
    "        optim.zero_grad()\n",
    "        loss.backward()\n",
    "        optim.step()\n",
    "    with torch.no_grad():\n",
    "        print(' epoch ',epoch,' loss ',loss_fn(model(X),Y).data.item())"
   ]
  },
  {
   "cell_type": "markdown",
   "metadata": {},
   "source": [
    "# 添加验证  \n",
    "## 了解过拟合与欠拟合"
   ]
  },
  {
   "cell_type": "code",
   "execution_count": 48,
   "metadata": {},
   "outputs": [
    {
     "name": "stdout",
     "output_type": "stream",
     "text": [
      "Looking in indexes: http://pypi.mirrors.ustc.edu.cn/simple\n",
      "Requirement already satisfied: sklearn in d:\\anaconda\\envs\\pytorch\\lib\\site-packages (0.0)\n",
      "Requirement already satisfied: scikit-learn in d:\\anaconda\\envs\\pytorch\\lib\\site-packages (from sklearn) (0.24.1)\n",
      "Requirement already satisfied: scipy>=0.19.1 in d:\\anaconda\\envs\\pytorch\\lib\\site-packages (from scikit-learn->sklearn) (1.5.4)\n",
      "Requirement already satisfied: joblib>=0.11 in d:\\anaconda\\envs\\pytorch\\lib\\site-packages (from scikit-learn->sklearn) (1.0.1)\n",
      "Requirement already satisfied: threadpoolctl>=2.0.0 in d:\\anaconda\\envs\\pytorch\\lib\\site-packages (from scikit-learn->sklearn) (2.1.0)\n",
      "Requirement already satisfied: numpy>=1.13.3 in d:\\anaconda\\envs\\pytorch\\lib\\site-packages (from scikit-learn->sklearn) (1.19.4)\n"
     ]
    }
   ],
   "source": [
    "!pip install sklearn"
   ]
  },
  {
   "cell_type": "code",
   "execution_count": 49,
   "metadata": {},
   "outputs": [],
   "source": [
    "from sklearn.model_selection import train_test_split"
   ]
  },
  {
   "cell_type": "code",
   "execution_count": 51,
   "metadata": {},
   "outputs": [],
   "source": [
    "train_x,test_x,train_y,test_y = train_test_split(X_data,Y_data)"
   ]
  },
  {
   "cell_type": "code",
   "execution_count": 52,
   "metadata": {},
   "outputs": [
    {
     "data": {
      "text/plain": [
       "(14999, 20)"
      ]
     },
     "execution_count": 52,
     "metadata": {},
     "output_type": "execute_result"
    }
   ],
   "source": [
    "X_data.shape"
   ]
  },
  {
   "cell_type": "code",
   "execution_count": 53,
   "metadata": {},
   "outputs": [
    {
     "data": {
      "text/plain": [
       "((11249, 20), (3750, 20))"
      ]
     },
     "execution_count": 53,
     "metadata": {},
     "output_type": "execute_result"
    }
   ],
   "source": [
    "train_x.shape,test_x.shape"
   ]
  },
  {
   "cell_type": "code",
   "execution_count": 54,
   "metadata": {},
   "outputs": [],
   "source": [
    "train_x = torch.from_numpy(train_x).type(torch.float32)\n",
    "train_y = torch.from_numpy(train_y).type(torch.float32)\n",
    "test_x = torch.from_numpy(test_x).type(torch.float32)\n",
    "test_y = torch.from_numpy(test_y).type(torch.float32)"
   ]
  },
  {
   "cell_type": "code",
   "execution_count": 55,
   "metadata": {},
   "outputs": [],
   "source": [
    "train_ds = TensorDataset(train_x,train_y)\n",
    "train_dl = DataLoader(train_ds,batch_size=batch,shuffle=True)"
   ]
  },
  {
   "cell_type": "code",
   "execution_count": 61,
   "metadata": {},
   "outputs": [],
   "source": [
    "test_ds = TensorDataset(test_x,test_y)\n",
    "test_dl = DataLoader(test_ds,batch_size=batch)  #测试集不需要乱序"
   ]
  },
  {
   "cell_type": "markdown",
   "metadata": {},
   "source": [
    "如何计算正确率？"
   ]
  },
  {
   "cell_type": "raw",
   "metadata": {},
   "source": [
    "y_pred = (y_pred > 0.5).type(torch.int32)\n",
    "(y_pred == labels).float().mean()"
   ]
  },
  {
   "cell_type": "code",
   "execution_count": 71,
   "metadata": {},
   "outputs": [],
   "source": [
    "def accuracy(y_pred,y_true):\n",
    "    y_pred = (y_pred > 0.5).type(torch.float32)\n",
    "    acc = (y_pred == y_true).float().mean()\n",
    "    return acc"
   ]
  },
  {
   "cell_type": "code",
   "execution_count": 63,
   "metadata": {},
   "outputs": [],
   "source": [
    "model ,optim = get_model()"
   ]
  },
  {
   "cell_type": "code",
   "execution_count": 73,
   "metadata": {},
   "outputs": [],
   "source": [
    "Epoch = []\n",
    "train_acc = []\n",
    "train_loss = []\n",
    "test_acc = []\n",
    "test_loss = []"
   ]
  },
  {
   "cell_type": "code",
   "execution_count": 74,
   "metadata": {},
   "outputs": [
    {
     "name": "stdout",
     "output_type": "stream",
     "text": [
      " epoch  0  loss  0.096  accuracy  0.971  test_loss  0.127  test_accuracy  0.958\n",
      " epoch  1  loss  0.124  accuracy  0.961  test_loss  0.157  test_accuracy  0.951\n",
      " epoch  2  loss  0.1  accuracy  0.969  test_loss  0.131  test_accuracy  0.96\n",
      " epoch  3  loss  0.093  accuracy  0.971  test_loss  0.123  test_accuracy  0.962\n",
      " epoch  4  loss  0.092  accuracy  0.972  test_loss  0.12  test_accuracy  0.962\n",
      " epoch  5  loss  0.098  accuracy  0.972  test_loss  0.126  test_accuracy  0.959\n",
      " epoch  6  loss  0.107  accuracy  0.967  test_loss  0.139  test_accuracy  0.959\n",
      " epoch  7  loss  0.101  accuracy  0.968  test_loss  0.129  test_accuracy  0.959\n",
      " epoch  8  loss  0.094  accuracy  0.973  test_loss  0.127  test_accuracy  0.963\n",
      " epoch  9  loss  0.088  accuracy  0.973  test_loss  0.12  test_accuracy  0.963\n",
      " epoch  10  loss  0.093  accuracy  0.972  test_loss  0.128  test_accuracy  0.962\n",
      " epoch  11  loss  0.096  accuracy  0.971  test_loss  0.123  test_accuracy  0.963\n",
      " epoch  12  loss  0.11  accuracy  0.964  test_loss  0.133  test_accuracy  0.956\n",
      " epoch  13  loss  0.093  accuracy  0.972  test_loss  0.125  test_accuracy  0.961\n",
      " epoch  14  loss  0.092  accuracy  0.973  test_loss  0.122  test_accuracy  0.963\n",
      " epoch  15  loss  0.096  accuracy  0.97  test_loss  0.128  test_accuracy  0.961\n",
      " epoch  16  loss  0.216  accuracy  0.906  test_loss  0.251  test_accuracy  0.9\n",
      " epoch  17  loss  0.099  accuracy  0.97  test_loss  0.129  test_accuracy  0.961\n",
      " epoch  18  loss  0.093  accuracy  0.972  test_loss  0.124  test_accuracy  0.962\n",
      " epoch  19  loss  0.09  accuracy  0.973  test_loss  0.121  test_accuracy  0.963\n",
      " epoch  20  loss  0.096  accuracy  0.971  test_loss  0.129  test_accuracy  0.96\n",
      " epoch  21  loss  0.098  accuracy  0.971  test_loss  0.131  test_accuracy  0.958\n",
      " epoch  22  loss  0.092  accuracy  0.972  test_loss  0.124  test_accuracy  0.962\n",
      " epoch  23  loss  0.095  accuracy  0.971  test_loss  0.124  test_accuracy  0.96\n",
      " epoch  24  loss  0.116  accuracy  0.962  test_loss  0.142  test_accuracy  0.952\n",
      " epoch  25  loss  0.119  accuracy  0.963  test_loss  0.151  test_accuracy  0.954\n",
      " epoch  26  loss  0.095  accuracy  0.971  test_loss  0.124  test_accuracy  0.962\n",
      " epoch  27  loss  0.124  accuracy  0.959  test_loss  0.156  test_accuracy  0.948\n",
      " epoch  28  loss  0.097  accuracy  0.97  test_loss  0.128  test_accuracy  0.961\n",
      " epoch  29  loss  0.087  accuracy  0.973  test_loss  0.12  test_accuracy  0.965\n",
      " epoch  30  loss  0.089  accuracy  0.973  test_loss  0.12  test_accuracy  0.964\n",
      " epoch  31  loss  0.097  accuracy  0.971  test_loss  0.128  test_accuracy  0.962\n",
      " epoch  32  loss  0.102  accuracy  0.968  test_loss  0.135  test_accuracy  0.957\n",
      " epoch  33  loss  0.092  accuracy  0.971  test_loss  0.125  test_accuracy  0.962\n",
      " epoch  34  loss  0.092  accuracy  0.97  test_loss  0.125  test_accuracy  0.962\n",
      " epoch  35  loss  0.109  accuracy  0.964  test_loss  0.141  test_accuracy  0.953\n",
      " epoch  36  loss  0.092  accuracy  0.971  test_loss  0.122  test_accuracy  0.961\n",
      " epoch  37  loss  0.101  accuracy  0.971  test_loss  0.129  test_accuracy  0.961\n",
      " epoch  38  loss  0.1  accuracy  0.968  test_loss  0.133  test_accuracy  0.961\n",
      " epoch  39  loss  0.094  accuracy  0.971  test_loss  0.127  test_accuracy  0.961\n",
      " epoch  40  loss  0.095  accuracy  0.971  test_loss  0.124  test_accuracy  0.96\n",
      " epoch  41  loss  0.096  accuracy  0.971  test_loss  0.128  test_accuracy  0.959\n",
      " epoch  42  loss  0.108  accuracy  0.965  test_loss  0.141  test_accuracy  0.957\n",
      " epoch  43  loss  0.098  accuracy  0.971  test_loss  0.129  test_accuracy  0.959\n",
      " epoch  44  loss  0.087  accuracy  0.974  test_loss  0.122  test_accuracy  0.962\n",
      " epoch  45  loss  0.101  accuracy  0.97  test_loss  0.133  test_accuracy  0.958\n",
      " epoch  46  loss  0.09  accuracy  0.973  test_loss  0.12  test_accuracy  0.962\n",
      " epoch  47  loss  0.09  accuracy  0.971  test_loss  0.124  test_accuracy  0.962\n",
      " epoch  48  loss  0.093  accuracy  0.972  test_loss  0.128  test_accuracy  0.961\n",
      " epoch  49  loss  0.1  accuracy  0.968  test_loss  0.132  test_accuracy  0.959\n",
      " epoch  50  loss  0.085  accuracy  0.974  test_loss  0.12  test_accuracy  0.963\n",
      " epoch  51  loss  0.102  accuracy  0.967  test_loss  0.13  test_accuracy  0.959\n",
      " epoch  52  loss  0.105  accuracy  0.966  test_loss  0.145  test_accuracy  0.957\n",
      " epoch  53  loss  0.083  accuracy  0.975  test_loss  0.119  test_accuracy  0.965\n",
      " epoch  54  loss  0.091  accuracy  0.972  test_loss  0.125  test_accuracy  0.962\n",
      " epoch  55  loss  0.091  accuracy  0.974  test_loss  0.125  test_accuracy  0.962\n",
      " epoch  56  loss  0.094  accuracy  0.973  test_loss  0.123  test_accuracy  0.962\n",
      " epoch  57  loss  0.115  accuracy  0.963  test_loss  0.145  test_accuracy  0.955\n",
      " epoch  58  loss  0.099  accuracy  0.969  test_loss  0.134  test_accuracy  0.956\n",
      " epoch  59  loss  0.1  accuracy  0.968  test_loss  0.135  test_accuracy  0.957\n",
      " epoch  60  loss  0.099  accuracy  0.968  test_loss  0.133  test_accuracy  0.956\n",
      " epoch  61  loss  0.096  accuracy  0.971  test_loss  0.13  test_accuracy  0.962\n",
      " epoch  62  loss  0.106  accuracy  0.967  test_loss  0.143  test_accuracy  0.955\n",
      " epoch  63  loss  0.098  accuracy  0.97  test_loss  0.137  test_accuracy  0.958\n",
      " epoch  64  loss  0.089  accuracy  0.971  test_loss  0.123  test_accuracy  0.963\n",
      " epoch  65  loss  0.118  accuracy  0.962  test_loss  0.147  test_accuracy  0.951\n",
      " epoch  66  loss  0.088  accuracy  0.973  test_loss  0.127  test_accuracy  0.961\n",
      " epoch  67  loss  0.092  accuracy  0.973  test_loss  0.127  test_accuracy  0.963\n",
      " epoch  68  loss  0.087  accuracy  0.972  test_loss  0.124  test_accuracy  0.963\n",
      " epoch  69  loss  0.088  accuracy  0.973  test_loss  0.128  test_accuracy  0.962\n",
      " epoch  70  loss  0.089  accuracy  0.973  test_loss  0.122  test_accuracy  0.962\n",
      " epoch  71  loss  0.092  accuracy  0.972  test_loss  0.13  test_accuracy  0.962\n",
      " epoch  72  loss  0.088  accuracy  0.973  test_loss  0.123  test_accuracy  0.965\n",
      " epoch  73  loss  0.104  accuracy  0.968  test_loss  0.139  test_accuracy  0.957\n",
      " epoch  74  loss  0.084  accuracy  0.975  test_loss  0.12  test_accuracy  0.964\n",
      " epoch  75  loss  0.085  accuracy  0.974  test_loss  0.122  test_accuracy  0.964\n",
      " epoch  76  loss  0.084  accuracy  0.973  test_loss  0.121  test_accuracy  0.964\n",
      " epoch  77  loss  0.09  accuracy  0.972  test_loss  0.13  test_accuracy  0.963\n",
      " epoch  78  loss  0.086  accuracy  0.974  test_loss  0.124  test_accuracy  0.962\n",
      " epoch  79  loss  0.108  accuracy  0.964  test_loss  0.148  test_accuracy  0.954\n",
      " epoch  80  loss  0.085  accuracy  0.973  test_loss  0.123  test_accuracy  0.961\n",
      " epoch  81  loss  0.097  accuracy  0.97  test_loss  0.131  test_accuracy  0.958\n",
      " epoch  82  loss  0.083  accuracy  0.975  test_loss  0.119  test_accuracy  0.963\n",
      " epoch  83  loss  0.124  accuracy  0.962  test_loss  0.161  test_accuracy  0.95\n",
      " epoch  84  loss  0.094  accuracy  0.971  test_loss  0.13  test_accuracy  0.963\n",
      " epoch  85  loss  0.098  accuracy  0.969  test_loss  0.132  test_accuracy  0.958\n",
      " epoch  86  loss  0.083  accuracy  0.974  test_loss  0.122  test_accuracy  0.965\n",
      " epoch  87  loss  0.086  accuracy  0.975  test_loss  0.123  test_accuracy  0.963\n",
      " epoch  88  loss  0.084  accuracy  0.973  test_loss  0.12  test_accuracy  0.962\n",
      " epoch  89  loss  0.083  accuracy  0.974  test_loss  0.122  test_accuracy  0.962\n",
      " epoch  90  loss  0.09  accuracy  0.972  test_loss  0.125  test_accuracy  0.963\n",
      " epoch  91  loss  0.091  accuracy  0.972  test_loss  0.128  test_accuracy  0.958\n",
      " epoch  92  loss  0.095  accuracy  0.969  test_loss  0.134  test_accuracy  0.959\n",
      " epoch  93  loss  0.095  accuracy  0.969  test_loss  0.135  test_accuracy  0.961\n",
      " epoch  94  loss  0.088  accuracy  0.975  test_loss  0.125  test_accuracy  0.963\n",
      " epoch  95  loss  0.082  accuracy  0.975  test_loss  0.121  test_accuracy  0.962\n",
      " epoch  96  loss  0.09  accuracy  0.972  test_loss  0.133  test_accuracy  0.961\n",
      " epoch  97  loss  0.082  accuracy  0.975  test_loss  0.122  test_accuracy  0.964\n",
      " epoch  98  loss  0.08  accuracy  0.975  test_loss  0.118  test_accuracy  0.965\n",
      " epoch  99  loss  0.081  accuracy  0.974  test_loss  0.12  test_accuracy  0.96\n"
     ]
    }
   ],
   "source": [
    "for epoch in range(epochs):\n",
    "    for x,y in train_dl:\n",
    "        y_pred = model(x)\n",
    "        loss = loss_fn(y_pred,y)\n",
    "        optim.zero_grad()\n",
    "        loss.backward()\n",
    "        optim.step()\n",
    "    with torch.no_grad():\n",
    "        epoch_accuracy = accuracy(model(train_x),train_y)\n",
    "        epoch_loss = loss_fn(model(train_x),train_y).data\n",
    "        epoch_test_accuracy = accuracy(model(test_x),test_y)\n",
    "        epoch_test_loss = loss_fn(model(test_x),test_y).data\n",
    "        \n",
    "        Epoch.append(epoch)\n",
    "        train_acc.append(epoch_accuracy)\n",
    "        train_loss.append(epoch_loss)\n",
    "        test_acc.append(epoch_test_accuracy)\n",
    "        test_loss.append(epoch_test_accuracy)\n",
    "        \n",
    "        print(' epoch ',epoch,\n",
    "              ' loss ',round(epoch_loss.item(),3),\n",
    "              ' accuracy ',round(epoch_accuracy.item(),3),\n",
    "              ' test_loss ',round(epoch_test_loss.item(),3),\n",
    "              ' test_accuracy ',round(epoch_test_accuracy.item(),3)\n",
    "             )"
   ]
  },
  {
   "cell_type": "code",
   "execution_count": 79,
   "metadata": {},
   "outputs": [
    {
     "data": {
      "image/png": "[encoded data removed]",
      "text/plain": [
       "<Figure size 432x288 with 2 Axes>"
      ]
     },
     "metadata": {
      "needs_background": "light"
     },
     "output_type": "display_data"
    }
   ],
   "source": [
    "plt.subplot(1,2,1)\n",
    "plt.plot(Epoch,train_acc,'r',label='train_acc')\n",
    "plt.plot(Epoch,test_acc,'b',label='test_acc')\n",
    "plt.xlabel('Epoch')\n",
    "plt.ylabel('Accuracy')\n",
    "plt.subplot(1,2,2)\n",
    "plt.plot(Epoch,train_loss,'r',label='train_loss')\n",
    "plt.plot(Epoch,test_loss,'b',label='test_loss')\n",
    "plt.xlabel('Epoch')\n",
    "plt.ylabel('Loss')\n",
    "plt.subplots_adjust(wspace=0.5,hspace=0.5)\n",
    "plt.show()"
   ]
  },
  {
   "cell_type": "code",
   "execution_count": null,
   "metadata": {},
   "outputs": [],
   "source": []
  }
 ],
 "metadata": {
  "kernelspec": {
   "display_name": "Python [conda env:pytorch] *",
   "language": "python",
   "name": "conda-env-pytorch-py"
  },
  "language_info": {
   "codemirror_mode": {
    "name": "ipython",
    "version": 3
   },
   "file_extension": ".py",
   "mimetype": "text/x-python",
   "name": "python",
   "nbconvert_exporter": "python",
   "pygments_lexer": "ipython3",
   "version": "3.6.12"
  }
 },
 "nbformat": 4,
 "nbformat_minor": 4
}
